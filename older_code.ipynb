{
 "cells": [
  {
   "cell_type": "code",
   "execution_count": null,
   "metadata": {},
   "outputs": [],
   "source": [
    "#make it easier to copy data\n",
    "#domarar\n",
    "#einstaklingar\n",
    "#forsvarsmenn\n",
    "#lid\n",
    "#lidimoti\n",
    "#lidsmenn\n",
    "#lidsstjorar\n",
    "#mot\n",
    "#thjalfarar"
   ]
  },
  {
   "cell_type": "code",
   "execution_count": null,
   "metadata": {},
   "outputs": [],
   "source": [
    "#lid_nafn_valuecount = lid['Nafn'].value_counts()\n",
    "#print(lid_nafn_valuecount)\n",
    "#lid_nafn_valuecount[lid_nafn_valuecount < 2]\n",
    "#lid['LidID'].value_counts() \n",
    "#lid_nafn_valuecount2 = lid['Nafn'].value_counts()\n",
    "#lid_nafn_valuecount2\n",
    "\n",
    "\n",
    "#pd.concat(g for _, g in einstaklingar.groupby(\"Fdagur\") if len(g) > 1)"
   ]
  },
  {
   "cell_type": "code",
   "execution_count": null,
   "metadata": {},
   "outputs": [],
   "source": [
    "#print(duplicated_fdagur_kyn_einstaklingar)"
   ]
  },
  {
   "cell_type": "code",
   "execution_count": null,
   "metadata": {},
   "outputs": [],
   "source": [
    "## change all other table entries to the main id for new person\n",
    "## delete old values ???"
   ]
  },
  {
   "cell_type": "code",
   "execution_count": 9,
   "metadata": {},
   "outputs": [],
   "source": [
    "import pandas as pd\n",
    "import numpy as np\n",
    "import matplotlib.pyplot as plt\n",
    "import seaborn as sns\n",
    "from collections import defaultdict\n",
    "import codecs, json\n",
    "#importing all csv files\n",
    "domarar = pd.read_csv('csv/blak-domarar.csv', sep=';', header=0)\n",
    "einstaklingar = pd.read_csv('csv/blak-einstaklingar.csv', sep=';', header=0)\n",
    "forsvarsmenn = pd.read_csv('csv/blak-forsvarsmenn.csv', sep=';', header=0)\n",
    "lid = pd.read_csv('csv/blak-lid.csv', sep=';', header=0)\n",
    "lidimoti = pd.read_csv('csv/blak-lidimoti.csv', sep=';', header=0)\n",
    "lidsmenn = pd.read_csv('csv/blak-lidsmenn.csv', sep=';', header=0)\n",
    "lidsstjorar = pd.read_csv('csv/blak-lidsstjorar.csv', sep=';', header=0)\n",
    "thjalfarar = pd.read_csv('csv/blak-thjalfarar.csv', sep=';', header=0)\n",
    "mot = pd.read_csv('csv/blak-mot.csv', sep=';', header=0)\n",
    "\n",
    "# drop all SyndarLids with an ID (SyndarlidID)\n",
    "# (the reason for not dropping using SyndarLid is because I don't trust that column to be inserted correctly with [0,1])\n",
    "lid = lid[lid['SyndarlidID'].isna()]\n",
    "# then dropping those two columns because we don't want virtual teams\n",
    "lid = lid.drop(columns=['SyndarLid', 'SyndarlidID'])"
   ]
  },
  {
   "cell_type": "code",
   "execution_count": 10,
   "metadata": {},
   "outputs": [],
   "source": [
    "## data\n",
    "#print(help(einstaklingar))\n",
    "#print(domarar)\n",
    "#print(einstaklingar)\n",
    "#print(forsvarsmenn)\n",
    "#print(lid.columns)\n",
    "#print(lidimoti)\n",
    "#print(lidsmenn)\n",
    "#print(lidsstjorar)\n",
    "#print(mot)\n",
    "#print(thjalfarar)"
   ]
  },
  {
   "cell_type": "code",
   "execution_count": 11,
   "metadata": {},
   "outputs": [
    {
     "name": "stdout",
     "output_type": "stream",
     "text": [
      "             LidID  LidaTegundID\n",
      "count  1023.000000   1023.000000\n",
      "mean   2862.463343     30.417400\n",
      "std    2041.233494      9.222238\n",
      "min      18.000000     20.000000\n",
      "25%    1031.500000     21.000000\n",
      "50%    2508.000000     32.000000\n",
      "75%    4425.500000     39.000000\n",
      "max    7172.000000     51.000000\n"
     ]
    }
   ],
   "source": [
    "## describe\n",
    "#print(domarar.describe())\n",
    "#print(einstaklingar.describe())\n",
    "#print(forsvarsmenn.describe())\n",
    "print(lid.describe())\n",
    "#print(lidimoti.describe())\n",
    "#print(lidsmenn.describe())\n",
    "#print(lidsstjorar.describe())\n",
    "#print(mot.describe())\n",
    "#print(thjalfarar.describe())"
   ]
  },
  {
   "cell_type": "code",
   "execution_count": 12,
   "metadata": {},
   "outputs": [],
   "source": [
    "## dtypes\n",
    "#domarar.dtypes\n",
    "#einstaklingar.dtypes\n",
    "#forsvarsmenn.dtypes\n",
    "#lid.dtypes\n",
    "#lidimoti.dtypes\n",
    "#lidsmenn.dtypes\n",
    "#lidsstjorar.dtypes\n",
    "#mot.dtypes\n",
    "#thjalfarar.dtypes"
   ]
  },
  {
   "cell_type": "code",
   "execution_count": null,
   "metadata": {},
   "outputs": [],
   "source": []
  }
 ],
 "metadata": {
  "kernelspec": {
   "display_name": "Python 3",
   "language": "python",
   "name": "python3"
  },
  "language_info": {
   "codemirror_mode": {
    "name": "ipython",
    "version": 3
   },
   "file_extension": ".py",
   "mimetype": "text/x-python",
   "name": "python",
   "nbconvert_exporter": "python",
   "pygments_lexer": "ipython3",
   "version": "3.8.5"
  }
 },
 "nbformat": 4,
 "nbformat_minor": 4
}
