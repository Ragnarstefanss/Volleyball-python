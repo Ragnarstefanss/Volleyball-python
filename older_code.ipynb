{
 "cells": [
  {
   "cell_type": "code",
   "execution_count": null,
   "metadata": {},
   "outputs": [],
   "source": [
    "#make it easier to copy data\n",
    "#domarar\n",
    "#einstaklingar\n",
    "#forsvarsmenn\n",
    "#lid\n",
    "#lidimoti\n",
    "#lidsmenn\n",
    "#lidsstjorar\n",
    "#mot\n",
    "#thjalfarar"
   ]
  },
  {
   "cell_type": "code",
   "execution_count": null,
   "metadata": {},
   "outputs": [],
   "source": [
    "#lid_nafn_valuecount = lid['Nafn'].value_counts()\n",
    "#print(lid_nafn_valuecount)\n",
    "#lid_nafn_valuecount[lid_nafn_valuecount < 2]\n",
    "#lid['LidID'].value_counts() \n",
    "#lid_nafn_valuecount2 = lid['Nafn'].value_counts()\n",
    "#lid_nafn_valuecount2\n",
    "\n",
    "\n",
    "#pd.concat(g for _, g in einstaklingar.groupby(\"Fdagur\") if len(g) > 1)"
   ]
  },
  {
   "cell_type": "code",
   "execution_count": null,
   "metadata": {},
   "outputs": [],
   "source": [
    "#print(duplicated_fdagur_kyn_einstaklingar)"
   ]
  },
  {
   "cell_type": "code",
   "execution_count": null,
   "metadata": {},
   "outputs": [],
   "source": [
    "## change all other table entries to the main id for new person\n",
    "## delete old values ???"
   ]
  }
 ],
 "metadata": {
  "kernelspec": {
   "display_name": "Python 3",
   "language": "python",
   "name": "python3"
  },
  "language_info": {
   "codemirror_mode": {
    "name": "ipython",
    "version": 3
   },
   "file_extension": ".py",
   "mimetype": "text/x-python",
   "name": "python",
   "nbconvert_exporter": "python",
   "pygments_lexer": "ipython3",
   "version": "3.8.5"
  }
 },
 "nbformat": 4,
 "nbformat_minor": 4
}
