{
 "cells": [
  {
   "cell_type": "code",
   "execution_count": 3,
   "metadata": {},
   "outputs": [],
   "source": [
    "import pandas as pd\n",
    "import numpy as np\n",
    "import matplotlib.pyplot as plt\n",
    "import seaborn as sns"
   ]
  },
  {
   "cell_type": "code",
   "execution_count": 48,
   "metadata": {},
   "outputs": [],
   "source": [
    "#importing all csv files\n",
    "domarar = pd.read_csv('csv/blak-domarar.csv', sep=';', header=0)\n",
    "einstaklingar = pd.read_csv('csv/blak-einstaklingar.csv', sep=';', header=0)\n",
    "forsvarsmenn = pd.read_csv('csv/blak-forsvarsmenn.csv', sep=';', header=0)\n",
    "lid = pd.read_csv('csv/blak-lid.csv', sep=';', header=0)\n",
    "lidimoti = pd.read_csv('csv/blak-lidimoti.csv', sep=';', header=0)\n",
    "lidsmenn = pd.read_csv('csv/blak-lidsmenn.csv', sep=';', header=0)\n",
    "lidsstjorar = pd.read_csv('csv/blak-lidsstjorar.csv', sep=';', header=0)\n",
    "thjalfarar = pd.read_csv('csv/blak-thjalfarar.csv', sep=';', header=0)\n",
    "mot = pd.read_csv('csv/blak-mot.csv', sep=';', header=0)"
   ]
  },
  {
   "cell_type": "code",
   "execution_count": 49,
   "metadata": {},
   "outputs": [
    {
     "name": "stdout",
     "output_type": "stream",
     "text": [
      "     MotID                           Heiti                    Stadur  \\\n",
      "0        1                         Öld2000                 Reykjavík   \n",
      "1        2                   Öldungur 2001                  Akureyri   \n",
      "2        3                     Skírdagsmót                 Reykjavík   \n",
      "3        6                     Haustmót KA                  Akureyri   \n",
      "4        7           Brosmót Aftureldingar                     Varmá   \n",
      "..     ...                             ...                       ...   \n",
      "237    246          Nýársmót Völsungs 2014     Íþróttahöllin Húsavík   \n",
      "238    247             Blakmót Skauta 2014  Íþróttahöllin á Akureyri   \n",
      "239    248                   Blakmót Bresa              Jaðarsbökkum   \n",
      "240    249  KAleikur 2014 (Öldungamót BLÍ)                  Akureyri   \n",
      "241    250        Íslandsmót BLÍ 2014-2015                       NaN   \n",
      "\n",
      "                Upphafsdagur                Lokadagur  LidID  EinstID  \\\n",
      "0    2000-05-05 00:00:00.000  2000-05-07 00:00:00.000     27      479   \n",
      "1    2001-04-28 00:00:00.000  2001-04-30 00:00:00.000    144      545   \n",
      "2    2001-04-12 00:00:00.000  2001-04-12 00:00:00.000    126      618   \n",
      "3    2001-11-16 00:00:00.000  2001-11-17 00:00:00.000    144      921   \n",
      "4    2001-11-25 00:00:00.000  2001-11-25 00:00:00.000    156      265   \n",
      "..                       ...                      ...    ...      ...   \n",
      "237  2014-01-10 00:00:00.000  2014-01-11 00:00:00.000   1839     1065   \n",
      "238  2014-04-04 00:00:00.000  2014-04-05 00:00:00.000   4167      833   \n",
      "239  2014-03-22 00:00:00.000  2014-03-22 00:00:00.000   4157     1314   \n",
      "240  2014-05-01 00:00:00.000  2014-05-03 00:00:00.000   1735      767   \n",
      "241  2014-09-15 00:00:00.000  2015-05-15 00:00:00.000   1008      952   \n",
      "\n",
      "                                                Lysing  \\\n",
      "0                                   25. Öldungamót BLÍ   \n",
      "1                                   26. Öldungamót BLÍ   \n",
      "2                                                  NaN   \n",
      "3    Haustmót KA, 16. - 17. nóvember. Haldið í KA h...   \n",
      "4         Brosmót Aftureldingar að Varmá 25. nóv. 2001   \n",
      "..                                                 ...   \n",
      "237                                                NaN   \n",
      "238                                                NaN   \n",
      "239                                                NaN   \n",
      "240                 39. Öldungamót BLÍ á Akureyri 2014   \n",
      "241                                        Mikasadeild   \n",
      "\n",
      "                Timastimpill                ByrjaTimi  \\\n",
      "0    2001-02-09 19:49:27.643  1899-12-30 08:00:00.000   \n",
      "1    2001-03-07 21:57:51.660  1899-12-30 08:00:00.000   \n",
      "2    2001-03-29 10:53:43.360  1899-12-30 09:00:00.000   \n",
      "3    2001-10-31 21:45:52.433  1899-12-30 08:00:00.000   \n",
      "4    2001-10-31 23:51:06.577  1899-12-30 10:00:00.000   \n",
      "..                       ...                      ...   \n",
      "237  2013-10-15 22:05:40.060  1899-12-30 08:00:00.000   \n",
      "238  2013-10-31 20:16:20.733  1899-12-30 08:00:00.000   \n",
      "239  2013-12-06 11:59:18.830  1899-12-30 08:30:00.000   \n",
      "240  2014-01-22 00:08:19.327  1899-12-30 08:00:00.000   \n",
      "241  2014-07-16 12:21:23.257  1899-12-30 08:00:00.000   \n",
      "\n",
      "                    EndaTimi  MinuturALeik  Stigaregla Stada  MaxHrinur  \\\n",
      "0    1899-12-30 22:00:00.000            45  Öld2000        L        NaN   \n",
      "1    1899-12-30 23:00:00.000            45  BLÍ            L        NaN   \n",
      "2    1899-12-30 22:00:00.000            30  BLÍ            L        NaN   \n",
      "3    1899-12-30 23:30:00.000            35  BLÍ            G        NaN   \n",
      "4    1899-12-30 23:00:00.000            40  BLÍ            L        NaN   \n",
      "..                       ...           ...         ...   ...        ...   \n",
      "237  1899-12-30 23:00:00.000            30  BLÍ            L        2.0   \n",
      "238  1899-12-30 23:59:00.000            35  BLÍ            L        2.0   \n",
      "239  1899-12-30 23:00:00.000            35  BLÍ            L        2.0   \n",
      "240  1899-12-30 23:00:00.000            45  BLÍ            G        3.0   \n",
      "241  1899-12-30 23:00:00.000            45  Ítalskt        U        5.0   \n",
      "\n",
      "        TwitterTag  \n",
      "0              NaN  \n",
      "1              NaN  \n",
      "2              NaN  \n",
      "3              NaN  \n",
      "4              NaN  \n",
      "..             ...  \n",
      "237            NaN  \n",
      "238            NaN  \n",
      "239            NaN  \n",
      "240  #kaleikur2014  \n",
      "241            NaN  \n",
      "\n",
      "[242 rows x 16 columns]\n"
     ]
    }
   ],
   "source": [
    "#print(domarar)\n",
    "#print(einstaklingar)\n",
    "#print(forsvarsmenn)\n",
    "#print(lid)\n",
    "#print(lidimoti)\n",
    "#print(lidsmenn)\n",
    "#print(lidsstjorar)\n",
    "print(mot)\n",
    "#print(thjalfarar)"
   ]
  },
  {
   "cell_type": "code",
   "execution_count": null,
   "metadata": {},
   "outputs": [],
   "source": []
  }
 ],
 "metadata": {
  "kernelspec": {
   "display_name": "Python 3",
   "language": "python",
   "name": "python3"
  },
  "language_info": {
   "codemirror_mode": {
    "name": "ipython",
    "version": 3
   },
   "file_extension": ".py",
   "mimetype": "text/x-python",
   "name": "python",
   "nbconvert_exporter": "python",
   "pygments_lexer": "ipython3",
   "version": "3.8.5"
  }
 },
 "nbformat": 4,
 "nbformat_minor": 4
}
