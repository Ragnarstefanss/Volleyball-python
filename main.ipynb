{
 "cells": [
  {
   "cell_type": "code",
   "execution_count": 56,
   "metadata": {},
   "outputs": [],
   "source": [
    "import pandas as pd\n",
    "import numpy as np\n",
    "import matplotlib.pyplot as plt\n",
    "import seaborn as sns"
   ]
  },
  {
   "cell_type": "code",
   "execution_count": 57,
   "metadata": {},
   "outputs": [],
   "source": [
    "#importing all csv files\n",
    "domarar = pd.read_csv('csv/blak-domarar.csv', sep=';', header=0)\n",
    "einstaklingar = pd.read_csv('csv/blak-einstaklingar.csv', sep=';', header=0)\n",
    "forsvarsmenn = pd.read_csv('csv/blak-forsvarsmenn.csv', sep=';', header=0)\n",
    "lid = pd.read_csv('csv/blak-lid.csv', sep=';', header=0)\n",
    "lidimoti = pd.read_csv('csv/blak-lidimoti.csv', sep=';', header=0)\n",
    "lidsmenn = pd.read_csv('csv/blak-lidsmenn.csv', sep=';', header=0)\n",
    "lidsstjorar = pd.read_csv('csv/blak-lidsstjorar.csv', sep=';', header=0)\n",
    "thjalfarar = pd.read_csv('csv/blak-thjalfarar.csv', sep=';', header=0)\n",
    "mot = pd.read_csv('csv/blak-mot.csv', sep=';', header=0)"
   ]
  },
  {
   "cell_type": "raw",
   "metadata": {},
   "source": [
    "#make it easier to copy data\n",
    "#domarar\n",
    "#einstaklingar\n",
    "#forsvarsmenn\n",
    "#lid\n",
    "#lidimoti\n",
    "#lidsmenn\n",
    "#lidsstjorar\n",
    "#mot\n",
    "#thjalfarar"
   ]
  },
  {
   "cell_type": "code",
   "execution_count": null,
   "metadata": {},
   "outputs": [],
   "source": [
    "#print(domarar)\n",
    "#print(einstaklingar)\n",
    "#print(forsvarsmenn)\n",
    "#print(lid)\n",
    "#print(lidimoti)\n",
    "#print(lidsmenn)\n",
    "#print(lidsstjorar)\n",
    "#print(mot)\n",
    "#print(thjalfarar)"
   ]
  },
  {
   "cell_type": "code",
   "execution_count": 72,
   "metadata": {},
   "outputs": [
    {
     "name": "stdout",
     "output_type": "stream",
     "text": [
      "           EinstID  Heimilisfang1  Heimilisfang2  Heimilisfang3         Haed\n",
      "count  4497.000000            0.0            0.0            0.0  2325.000000\n",
      "mean   2310.163442            NaN            NaN            NaN    38.581075\n",
      "std    1327.469491            NaN            NaN            NaN    75.465668\n",
      "min       1.000000            NaN            NaN            NaN     0.000000\n",
      "25%    1169.000000            NaN            NaN            NaN     0.000000\n",
      "50%    2314.000000            NaN            NaN            NaN     0.000000\n",
      "75%    3461.000000            NaN            NaN            NaN     0.000000\n",
      "max    4592.000000            NaN            NaN            NaN   906.000000\n"
     ]
    }
   ],
   "source": [
    "#print(domarar.describe())\n",
    "print(einstaklingar.describe())\n",
    "#print(forsvarsmenn.describe())\n",
    "#print(lid.describe())\n",
    "#print(lidimoti.describe())\n",
    "#print(lidsmenn.describe())\n",
    "#print(lidsstjorar.describe())\n",
    "#print(mot.describe())\n",
    "#print(thjalfarar.describe())"
   ]
  },
  {
   "cell_type": "code",
   "execution_count": 70,
   "metadata": {},
   "outputs": [],
   "source": [
    "#print(help(einstaklingar))"
   ]
  },
  {
   "cell_type": "code",
   "execution_count": 69,
   "metadata": {},
   "outputs": [
    {
     "data": {
      "text/plain": [
       "EinstID            int64\n",
       "Nafn              object\n",
       "Fdagur            object\n",
       "Kyn               object\n",
       "FelagISI          object\n",
       "Netfang           object\n",
       "Heimilisfang1    float64\n",
       "Heimilisfang2    float64\n",
       "Heimilisfang3    float64\n",
       "Simi1             object\n",
       "Simi2             object\n",
       "Simi3             object\n",
       "Timastimpill      object\n",
       "Haed             float64\n",
       "dtype: object"
      ]
     },
     "execution_count": 69,
     "metadata": {},
     "output_type": "execute_result"
    }
   ],
   "source": [
    "#domarar.dtypes\n",
    "#einstaklingar.dtypes\n",
    "#forsvarsmenn.dtypes\n",
    "#lid.dtypes\n",
    "#lidimoti.dtypes\n",
    "#lidsmenn.dtypes\n",
    "#lidsstjorar.dtypes\n",
    "#mot.dtypes\n",
    "#thjalfarar.dtypes"
   ]
  },
  {
   "cell_type": "code",
   "execution_count": 59,
   "metadata": {},
   "outputs": [],
   "source": [
    "#FINAL STEP (run after everything is done):\n",
    "#save as new csv inside csv/new\n",
    "pd.DataFrame(domarar).to_csv(\"csv/new/blak-domarar.csv\")\n",
    "pd.DataFrame(einstaklingar).to_csv(\"csv/new/blak-einstaklingar.csv\")\n",
    "pd.DataFrame(forsvarsmenn).to_csv(\"csv/new/blak-forsvarsmenn.csv.csv\")\n",
    "pd.DataFrame(lid).to_csv(\"csv/new/blak-lid.csv\")\n",
    "pd.DataFrame(lidimoti).to_csv(\"csv/new/blak-lidimoti.csv\")\n",
    "pd.DataFrame(lidsmenn).to_csv(\"csv/new/blak-lidsmenn.csv\")\n",
    "pd.DataFrame(lidsstjorar).to_csv(\"csv/new/blak-lidsstjorar.csv\")\n",
    "pd.DataFrame(mot).to_csv(\"csv/new/blak-mot.csv\")\n",
    "pd.DataFrame(thjalfarar).to_csv(\"csv/new/blak-thjalfarar.csv\")"
   ]
  },
  {
   "cell_type": "code",
   "execution_count": null,
   "metadata": {},
   "outputs": [],
   "source": []
  }
 ],
 "metadata": {
  "kernelspec": {
   "display_name": "Python 3",
   "language": "python",
   "name": "python3"
  },
  "language_info": {
   "codemirror_mode": {
    "name": "ipython",
    "version": 3
   },
   "file_extension": ".py",
   "mimetype": "text/x-python",
   "name": "python",
   "nbconvert_exporter": "python",
   "pygments_lexer": "ipython3",
   "version": "3.8.5"
  }
 },
 "nbformat": 4,
 "nbformat_minor": 4
}
