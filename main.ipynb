{
 "cells": [
  {
   "cell_type": "code",
   "execution_count": 139,
   "metadata": {},
   "outputs": [],
   "source": [
    "import pandas as pd\n",
    "import numpy as np\n",
    "import matplotlib.pyplot as plt\n",
    "import seaborn as sns"
   ]
  },
  {
   "cell_type": "code",
   "execution_count": 140,
   "metadata": {},
   "outputs": [],
   "source": [
    "#importing all csv files\n",
    "domarar = pd.read_csv('csv/blak-domarar.csv', sep=';', header=0)\n",
    "einstaklingar = pd.read_csv('csv/blak-einstaklingar.csv', sep=';', header=0)\n",
    "forsvarsmenn = pd.read_csv('csv/blak-forsvarsmenn.csv', sep=';', header=0)\n",
    "lid = pd.read_csv('csv/blak-lid.csv', sep=';', header=0)\n",
    "lidimoti = pd.read_csv('csv/blak-lidimoti.csv', sep=';', header=0)\n",
    "lidsmenn = pd.read_csv('csv/blak-lidsmenn.csv', sep=';', header=0)\n",
    "lidsstjorar = pd.read_csv('csv/blak-lidsstjorar.csv', sep=';', header=0)\n",
    "thjalfarar = pd.read_csv('csv/blak-thjalfarar.csv', sep=';', header=0)\n",
    "mot = pd.read_csv('csv/blak-mot.csv', sep=';', header=0)"
   ]
  },
  {
   "cell_type": "code",
   "execution_count": 141,
   "metadata": {},
   "outputs": [],
   "source": [
    "# drop all SyndarLids with an ID (SyndarlidID)\n",
    "# (the reason for not dropping using SyndarLid is because I don't trust that column to be inserted correctly with [0,1])\n",
    "lid = lid[lid['SyndarlidID'].isna()]\n",
    "# then dropping it\n",
    "lid = lid.drop(columns=['SyndarLid', 'SyndarlidID'])"
   ]
  },
  {
   "cell_type": "raw",
   "metadata": {},
   "source": [
    "#make it easier to copy data\n",
    "#domarar\n",
    "#einstaklingar\n",
    "#forsvarsmenn\n",
    "#lid\n",
    "#lidimoti\n",
    "#lidsmenn\n",
    "#lidsstjorar\n",
    "#mot\n",
    "#thjalfarar"
   ]
  },
  {
   "cell_type": "code",
   "execution_count": 100,
   "metadata": {},
   "outputs": [],
   "source": [
    "#print(help(einstaklingar))"
   ]
  },
  {
   "cell_type": "code",
   "execution_count": 144,
   "metadata": {},
   "outputs": [
    {
     "name": "stdout",
     "output_type": "stream",
     "text": [
      "Index(['LidID', 'Nafn', 'Radnumer', 'LidaTegundID', 'Timastimpill'], dtype='object')\n"
     ]
    }
   ],
   "source": [
    "#print(domarar)\n",
    "#print(einstaklingar)\n",
    "#print(forsvarsmenn)\n",
    "print(lid.columns)\n",
    "#print(lidimoti)\n",
    "#print(lidsmenn)\n",
    "#print(lidsstjorar)\n",
    "#print(mot)\n",
    "#print(thjalfarar)"
   ]
  },
  {
   "cell_type": "code",
   "execution_count": 142,
   "metadata": {},
   "outputs": [
    {
     "name": "stdout",
     "output_type": "stream",
     "text": [
      "             LidID  LidaTegundID\n",
      "count  1023.000000   1023.000000\n",
      "mean   2862.463343     30.417400\n",
      "std    2041.233494      9.222238\n",
      "min      18.000000     20.000000\n",
      "25%    1031.500000     21.000000\n",
      "50%    2508.000000     32.000000\n",
      "75%    4425.500000     39.000000\n",
      "max    7172.000000     51.000000\n"
     ]
    }
   ],
   "source": [
    "#print(domarar.describe())\n",
    "#print(einstaklingar.describe())\n",
    "#print(forsvarsmenn.describe())\n",
    "print(lid.describe())\n",
    "#print(lidimoti.describe())\n",
    "#print(lidsmenn.describe())\n",
    "#print(lidsstjorar.describe())\n",
    "#print(mot.describe())\n",
    "#print(thjalfarar.describe())"
   ]
  },
  {
   "cell_type": "code",
   "execution_count": 103,
   "metadata": {},
   "outputs": [
    {
     "data": {
      "text/plain": [
       "EinstID            int64\n",
       "Nafn              object\n",
       "Fdagur            object\n",
       "Kyn               object\n",
       "FelagISI          object\n",
       "Netfang           object\n",
       "Heimilisfang1    float64\n",
       "Heimilisfang2    float64\n",
       "Heimilisfang3    float64\n",
       "Simi1             object\n",
       "Simi2             object\n",
       "Simi3             object\n",
       "Timastimpill      object\n",
       "Haed             float64\n",
       "dtype: object"
      ]
     },
     "execution_count": 103,
     "metadata": {},
     "output_type": "execute_result"
    }
   ],
   "source": [
    "#domarar.dtypes\n",
    "einstaklingar.dtypes\n",
    "#forsvarsmenn.dtypes\n",
    "#lid.dtypes\n",
    "#lidimoti.dtypes\n",
    "#lidsmenn.dtypes\n",
    "#lidsstjorar.dtypes\n",
    "#mot.dtypes\n",
    "#thjalfarar.dtypes"
   ]
  },
  {
   "cell_type": "code",
   "execution_count": 145,
   "metadata": {},
   "outputs": [
    {
     "name": "stdout",
     "output_type": "stream",
     "text": [
      "(1023, 5)\n",
      "(1023, 5)\n"
     ]
    }
   ],
   "source": [
    "#make it easier to copy data\n",
    "#domarar\n",
    "#einstaklingar\n",
    "#forsvarsmenn\n",
    "#lidimoti\n",
    "#lidsmenn\n",
    "#lidsstjorar\n",
    "#mot\n",
    "#thjalfarar\n",
    "\n",
    "#lid_nafn_valuecount = lid['Nafn'].value_counts()\n",
    "#print(lid_nafn_valuecount)\n",
    "#lid_nafn_valuecount[lid_nafn_valuecount < 2]\n",
    "#lid['LidID'].value_counts() \n",
    "\n",
    "print(lid.shape)\n",
    "\n",
    "\n",
    "#lid_nafn_valuecount2 = lid['Nafn'].value_counts()\n",
    "#lid_nafn_valuecount2\n"
   ]
  },
  {
   "cell_type": "code",
   "execution_count": null,
   "metadata": {},
   "outputs": [],
   "source": []
  },
  {
   "cell_type": "code",
   "execution_count": null,
   "metadata": {},
   "outputs": [],
   "source": []
  },
  {
   "cell_type": "code",
   "execution_count": null,
   "metadata": {},
   "outputs": [],
   "source": []
  },
  {
   "cell_type": "code",
   "execution_count": null,
   "metadata": {},
   "outputs": [],
   "source": []
  },
  {
   "cell_type": "code",
   "execution_count": null,
   "metadata": {},
   "outputs": [],
   "source": []
  },
  {
   "cell_type": "code",
   "execution_count": null,
   "metadata": {},
   "outputs": [],
   "source": []
  },
  {
   "cell_type": "code",
   "execution_count": null,
   "metadata": {},
   "outputs": [],
   "source": []
  },
  {
   "cell_type": "code",
   "execution_count": null,
   "metadata": {},
   "outputs": [],
   "source": []
  },
  {
   "cell_type": "code",
   "execution_count": null,
   "metadata": {},
   "outputs": [],
   "source": []
  },
  {
   "cell_type": "code",
   "execution_count": 59,
   "metadata": {},
   "outputs": [],
   "source": [
    "#FINAL STEP (run after everything is done):\n",
    "#save as new csv inside csv/new\n",
    "pd.DataFrame(domarar).to_csv(\"csv/new/blak-domarar.csv\")\n",
    "pd.DataFrame(einstaklingar).to_csv(\"csv/new/blak-einstaklingar.csv\")\n",
    "pd.DataFrame(forsvarsmenn).to_csv(\"csv/new/blak-forsvarsmenn.csv.csv\")\n",
    "pd.DataFrame(lid).to_csv(\"csv/new/blak-lid.csv\")\n",
    "pd.DataFrame(lidimoti).to_csv(\"csv/new/blak-lidimoti.csv\")\n",
    "pd.DataFrame(lidsmenn).to_csv(\"csv/new/blak-lidsmenn.csv\")\n",
    "pd.DataFrame(lidsstjorar).to_csv(\"csv/new/blak-lidsstjorar.csv\")\n",
    "pd.DataFrame(mot).to_csv(\"csv/new/blak-mot.csv\")\n",
    "pd.DataFrame(thjalfarar).to_csv(\"csv/new/blak-thjalfarar.csv\")"
   ]
  },
  {
   "cell_type": "code",
   "execution_count": null,
   "metadata": {},
   "outputs": [],
   "source": []
  }
 ],
 "metadata": {
  "kernelspec": {
   "display_name": "Python 3",
   "language": "python",
   "name": "python3"
  },
  "language_info": {
   "codemirror_mode": {
    "name": "ipython",
    "version": 3
   },
   "file_extension": ".py",
   "mimetype": "text/x-python",
   "name": "python",
   "nbconvert_exporter": "python",
   "pygments_lexer": "ipython3",
   "version": "3.8.5"
  }
 },
 "nbformat": 4,
 "nbformat_minor": 4
}
